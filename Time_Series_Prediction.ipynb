{
 "cells": [
  {
   "cell_type": "markdown",
   "metadata": {},
   "source": [
    "# Predict the future\n",
    "After learning about all these classifiers and regressors, we have become optimistic and want to predict the future.\n",
    "Is it possible???? Let's see"
   ]
  },
  {
   "cell_type": "code",
   "execution_count": 35,
   "metadata": {
    "collapsed": true
   },
   "outputs": [],
   "source": [
    "%matplotlib inline\n",
    "import numpy as np\n",
    "import pandas as pd\n",
    "from sklearn.ensemble import RandomForestRegressor\n",
    "from sklearn.model_selection import KFold\n",
    "import matplotlib.pyplot as plt"
   ]
  },
  {
   "cell_type": "markdown",
   "metadata": {},
   "source": [
    "### user defined evaluation metric\n",
    "In the above examples we have used accuracy as evaluation metric.\n",
    "However, other evaluation metrices such as auroc,aupr etc. are available inside sklearn(Those are out \n",
    "of the scope of this workshop)."
   ]
  },
  {
   "cell_type": "code",
   "execution_count": 36,
   "metadata": {
    "collapsed": true
   },
   "outputs": [],
   "source": [
    " def mean_absolute_percentage_error(y_true, y_pred): \n",
    "    return np.mean(np.abs((y_true - y_pred) / y_true) * 100)"
   ]
  },
  {
   "cell_type": "code",
   "execution_count": 37,
   "metadata": {
    "collapsed": true
   },
   "outputs": [],
   "source": [
    "# We may want to predict goole stockprice for 22nd October,2017(that will be 10 days into the future)\n",
    "how_many_days_into_future = 150\n",
    "number_of_time_steps_to_consider = 20"
   ]
  },
  {
   "cell_type": "markdown",
   "metadata": {},
   "source": [
    "### let's build the dataset\n",
    "The whole process may seem complex right now, but don't worry. Just focus on **WHAT** we are doing while ignoring **HOW** we are doing for the time being and you will be good to go."
   ]
  },
  {
   "cell_type": "code",
   "execution_count": 38,
   "metadata": {
    "collapsed": true
   },
   "outputs": [],
   "source": [
    "df = pd.read_csv('google_stock_price.csv',index_col=0)\n",
    "dataset_to_consider = df['Adj. Close'].values"
   ]
  },
  {
   "cell_type": "code",
   "execution_count": 39,
   "metadata": {},
   "outputs": [
    {
     "name": "stderr",
     "output_type": "stream",
     "text": [
      "C:\\Program Files\\Anaconda3\\lib\\site-packages\\sklearn\\preprocessing\\data.py:321: DeprecationWarning: Passing 1d arrays as data is deprecated in 0.17 and will raise ValueError in 0.19. Reshape your data either using X.reshape(-1, 1) if your data has a single feature or X.reshape(1, -1) if it contains a single sample.\n",
      "  warnings.warn(DEPRECATION_MSG_1D, DeprecationWarning)\n",
      "C:\\Program Files\\Anaconda3\\lib\\site-packages\\sklearn\\preprocessing\\data.py:356: DeprecationWarning: Passing 1d arrays as data is deprecated in 0.17 and will raise ValueError in 0.19. Reshape your data either using X.reshape(-1, 1) if your data has a single feature or X.reshape(1, -1) if it contains a single sample.\n",
      "  warnings.warn(DEPRECATION_MSG_1D, DeprecationWarning)\n"
     ]
    }
   ],
   "source": [
    "# Feature Scaling\n",
    "# This is very very important for many of the ml models to be able to operate properly\n",
    "# The values may be in different scales initially\n",
    "# Bring everything between [0,1](atleast that is a good starting point)\n",
    "from sklearn.preprocessing import MinMaxScaler\n",
    "sc = MinMaxScaler(feature_range = (0, 1))\n",
    "training_set_scaled = sc.fit_transform(dataset_to_consider)\n",
    "\n",
    "# Creating a data structure with 20 timesteps and t+1 output\n",
    "\n",
    "\n",
    "X_train = []\n",
    "y_train = []\n",
    "for i in range(number_of_time_steps_to_consider, len(dataset_to_consider)-how_many_days_into_future):\n",
    "    X_train.append(training_set_scaled[i-number_of_time_steps_to_consider:i])\n",
    "    y_train.append(training_set_scaled[i+how_many_days_into_future])\n",
    "X, y = np.array(X_train), np.array(y_train)\n",
    "\n",
    "#trying to encounter the divide by zero in percentage\n",
    "X = X + 0.01\n",
    "y = y + 0.01"
   ]
  },
  {
   "cell_type": "code",
   "execution_count": 40,
   "metadata": {},
   "outputs": [
    {
     "name": "stdout",
     "output_type": "stream",
     "text": [
      "Feature matrix\n",
      " [[ 0.07546081  0.07546081  0.07373816 ...,  0.06828309  0.07373816\n",
      "   0.0701493 ]\n",
      " [ 0.07546081  0.07373816  0.07280505 ...,  0.07373816  0.0701493\n",
      "   0.07101062]\n",
      " [ 0.07373816  0.07280505  0.07373816 ...,  0.0701493   0.07101062\n",
      "   0.06828309]\n",
      " ..., \n",
      " [ 0.79395062  0.78505024  0.79438128 ...,  0.76739305  0.7672495\n",
      "   0.75863623]\n",
      " [ 0.78505024  0.79438128  0.79395062 ...,  0.7672495   0.75863623\n",
      "   0.75389894]\n",
      " [ 0.79438128  0.79395062  0.78332759 ...,  0.75863623  0.75389894\n",
      "   0.75978467]]\n",
      "Label\n",
      " [ 0.0817772   0.08263853  0.07904967 ...,  0.76796727  0.76897215\n",
      "  0.77241746]\n"
     ]
    }
   ],
   "source": [
    "print('Feature matrix\\n',X)\n",
    "print('Label\\n',y)"
   ]
  },
  {
   "cell_type": "code",
   "execution_count": 41,
   "metadata": {},
   "outputs": [
    {
     "name": "stdout",
     "output_type": "stream",
     "text": [
      "mape\n",
      " 48.0347592899\n"
     ]
    }
   ],
   "source": [
    "# We are using RandomForestRegressor here\n",
    "# this model can be replaced by basically any regression model\n",
    "regressor = RandomForestRegressor(n_estimators=20)\n",
    "skf = KFold(n_splits=5,shuffle=True)\n",
    "\n",
    "\n",
    "all_runs_average_mape = []\n",
    "# here the model is trained and tested 5 times \n",
    "\n",
    "for i in range(0,1) : \n",
    "\n",
    "    skf = KFold(n_splits=5,shuffle=True)\n",
    "    \n",
    "    all_mape = []\n",
    "    \n",
    "    for train_index, test_index in skf.split(X, y):\n",
    "    \n",
    "        X_train = X[train_index]\n",
    "        X_test = X[test_index]\n",
    "    \n",
    "        y_train = y[train_index]\n",
    "        y_test = y[test_index]\n",
    "    \n",
    "\n",
    "        regressor.fit(X_train,y_train)\n",
    "    \n",
    "        predictions  = regressor.predict(X_test)\n",
    "        \n",
    "        all_mape.append(mean_absolute_percentage_error(y_test, predictions))\n",
    "                \n",
    "\n",
    "    average_mape = sum(all_mape)/len(all_mape)\n",
    "    \n",
    "    all_runs_average_mape.append(average_mape)\n",
    "    \n",
    "    \n",
    "\n",
    "mape_all_runs_average = sum(all_runs_average_mape)/len(all_runs_average_mape)\n",
    "\n",
    "print('mape\\n',mape_all_runs_average)"
   ]
  },
  {
   "cell_type": "code",
   "execution_count": 42,
   "metadata": {},
   "outputs": [
    {
     "name": "stderr",
     "output_type": "stream",
     "text": [
      "C:\\Program Files\\Anaconda3\\lib\\site-packages\\sklearn\\preprocessing\\data.py:374: DeprecationWarning: Passing 1d arrays as data is deprecated in 0.17 and will raise ValueError in 0.19. Reshape your data either using X.reshape(-1, 1) if your data has a single feature or X.reshape(1, -1) if it contains a single sample.\n",
      "  warnings.warn(DEPRECATION_MSG_1D, DeprecationWarning)\n",
      "C:\\Program Files\\Anaconda3\\lib\\site-packages\\sklearn\\preprocessing\\data.py:374: DeprecationWarning: Passing 1d arrays as data is deprecated in 0.17 and will raise ValueError in 0.19. Reshape your data either using X.reshape(-1, 1) if your data has a single feature or X.reshape(1, -1) if it contains a single sample.\n",
      "  warnings.warn(DEPRECATION_MSG_1D, DeprecationWarning)\n"
     ]
    },
    {
     "data": {
      "image/png": "[encoded data removed]",
      "text/plain": [
       "<matplotlib.figure.Figure at 0xcf6bbb8320>"
      ]
     },
     "metadata": {},
     "output_type": "display_data"
    }
   ],
   "source": [
    "# Visualising the results\n",
    "plt.plot(sc.inverse_transform(y_test), color = 'red', label = 'Actual Stock Price')\n",
    "plt.plot(sc.inverse_transform(predictions), color = 'blue', label = 'Predicted Stock Price')\n",
    "plt.title('Google Stock Price Prediction')\n",
    "plt.xlabel('Time')\n",
    "plt.ylabel('Google Stock Price')\n",
    "plt.legend()\n",
    "plt.show()"
   ]
  },
  {
   "cell_type": "code",
   "execution_count": null,
   "metadata": {
    "collapsed": true
   },
   "outputs": [],
   "source": []
  }
 ],
 "metadata": {
  "kernelspec": {
   "display_name": "Python [default]",
   "language": "python",
   "name": "python3"
  },
  "language_info": {
   "codemirror_mode": {
    "name": "ipython",
    "version": 3
   },
   "file_extension": ".py",
   "mimetype": "text/x-python",
   "name": "python",
   "nbconvert_exporter": "python",
   "pygments_lexer": "ipython3",
   "version": "3.5.3"
  }
 },
 "nbformat": 4,
 "nbformat_minor": 2
}
