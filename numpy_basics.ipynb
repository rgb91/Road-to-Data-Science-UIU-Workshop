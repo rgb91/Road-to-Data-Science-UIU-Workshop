{
 "cells": [
  {
   "cell_type": "markdown",
   "metadata": {},
   "source": [
    "### Before diving into pandas, let's take a look at a very useful data structure known as dictionary(known as map in java)"
   ]
  },
  {
   "cell_type": "code",
   "execution_count": 46,
   "metadata": {},
   "outputs": [
    {
     "name": "stdout",
     "output_type": "stream",
     "text": [
      "{1: 'a', 2: 'b', 3: 'c', 4: 'd'}\n"
     ]
    }
   ],
   "source": [
    "id_list = [1,2,3,4]\n",
    "name_list = ['a','b','c','d']\n",
    "# now we want to associate it each with an id\n",
    "test_map = {id_list[index]:name_list[index] for index,_ in enumerate(id_list)}\n",
    "print(test_map)"
   ]
  },
  {
   "cell_type": "code",
   "execution_count": 47,
   "metadata": {},
   "outputs": [
    {
     "name": "stdout",
     "output_type": "stream",
     "text": [
      "a\n"
     ]
    }
   ],
   "source": [
    "print(test_map[1])"
   ]
  },
  {
   "cell_type": "code",
   "execution_count": 48,
   "metadata": {},
   "outputs": [
    {
     "name": "stdout",
     "output_type": "stream",
     "text": [
      "{'d': 4, 'c': 3, 'a': 1, 'b': 2}\n"
     ]
    }
   ],
   "source": [
    "# now we want to associate it each with an id\n",
    "test_map = {name_list[index]:id_list[index] for index,_ in enumerate(id_list)}\n",
    "print(test_map)"
   ]
  },
  {
   "cell_type": "code",
   "execution_count": 49,
   "metadata": {},
   "outputs": [
    {
     "name": "stdout",
     "output_type": "stream",
     "text": [
      "4\n"
     ]
    }
   ],
   "source": [
    "print(test_map['d'])"
   ]
  },
  {
   "cell_type": "code",
   "execution_count": 59,
   "metadata": {},
   "outputs": [
    {
     "name": "stdout",
     "output_type": "stream",
     "text": [
      "layer1\n",
      " [[ -7.91449307e-03  -4.41762641e-04   5.40548181e-03   1.69230609e-02\n",
      "    6.73687632e-03]\n",
      " [  3.52720347e-04   1.33281295e-02   9.09199554e-03   9.12405530e-06\n",
      "    6.05758758e-03]\n",
      " [  1.95896618e-02  -1.86888759e-02  -7.67204019e-03  -2.33989125e-03\n",
      "    5.20037973e-03]\n",
      " [  8.97858731e-03  -7.96697188e-03   2.00172154e-03  -1.19107666e-02\n",
      "    8.96499167e-03]\n",
      " [  1.04924477e-02  -7.65905264e-03   6.03135822e-03   2.14456134e-03\n",
      "   -1.02894787e-03]\n",
      " [  1.26178863e-02  -9.12364325e-03   1.38621310e-02  -1.61664669e-02\n",
      "   -5.98071066e-03]]\n",
      "(6, 5)\n",
      "\n",
      "layer2\n",
      " [[-0.01557193 -0.00725576 -0.00951629  0.00868157  0.00261935 -0.00225334]\n",
      " [-0.00275036 -0.00553528  0.01576735 -0.01720711 -0.00541849  0.01089524]]\n",
      "(2, 6)\n"
     ]
    }
   ],
   "source": [
    "# dictionaries can even be created dynamically\n",
    "number_of_layers = 4\n",
    "nodes_in_each_layer = [5,6,2,3,4]\n",
    "param_dict = {}\n",
    "\n",
    "for i in range(number_of_layers) : \n",
    "    param_dict['W'+str(i+1)] = np.random.randn(nodes_in_each_layer[i+1],nodes_in_each_layer[i])*0.01\n",
    "    \n",
    "\n",
    "print('layer1\\n',param_dict['W1'])\n",
    "print(param_dict['W1'].shape)\n",
    "\n",
    "print('\\nlayer2\\n',param_dict['W2'])\n",
    "print(param_dict['W2'].shape)\n",
    "\n"
   ]
  },
  {
   "cell_type": "markdown",
   "metadata": {},
   "source": [
    "What we have done above is actually **weight initilization** for a **neural network(do not worry if you don't know about it)**"
   ]
  },
  {
   "cell_type": "markdown",
   "metadata": {},
   "source": [
    "### Numpy array vs python list\n",
    "\n",
    "Numpy arrays are not like regular python or java arrays. They are usually treated as **vectors** or **matrices**. Let's see what that means.\n",
    "\n"
   ]
  },
  {
   "cell_type": "code",
   "execution_count": 50,
   "metadata": {
    "collapsed": true
   },
   "outputs": [],
   "source": [
    "import numpy as np"
   ]
  },
  {
   "cell_type": "code",
   "execution_count": 4,
   "metadata": {
    "collapsed": true
   },
   "outputs": [],
   "source": [
    "list = [1,2,3]\n",
    "np_array = np.array(list)"
   ]
  },
  {
   "cell_type": "code",
   "execution_count": 6,
   "metadata": {},
   "outputs": [
    {
     "data": {
      "text/plain": [
       "[1, 2, 3, 1, 2, 3]"
      ]
     },
     "execution_count": 6,
     "metadata": {},
     "output_type": "execute_result"
    }
   ],
   "source": [
    "list + list"
   ]
  },
  {
   "cell_type": "code",
   "execution_count": 7,
   "metadata": {},
   "outputs": [
    {
     "data": {
      "text/plain": [
       "array([2, 4, 6])"
      ]
     },
     "execution_count": 7,
     "metadata": {},
     "output_type": "execute_result"
    }
   ],
   "source": [
    "np_array + np_array"
   ]
  },
  {
   "cell_type": "code",
   "execution_count": 9,
   "metadata": {},
   "outputs": [
    {
     "ename": "TypeError",
     "evalue": "can't multiply sequence by non-int of type 'list'",
     "output_type": "error",
     "traceback": [
      "\u001b[1;31m---------------------------------------------------------------------------\u001b[0m",
      "\u001b[1;31mTypeError\u001b[0m                                 Traceback (most recent call last)",
      "\u001b[1;32m<ipython-input-9-2177bc444d82>\u001b[0m in \u001b[0;36m<module>\u001b[1;34m()\u001b[0m\n\u001b[1;32m----> 1\u001b[1;33m \u001b[0mlist\u001b[0m \u001b[1;33m*\u001b[0m \u001b[0mlist\u001b[0m\u001b[1;33m\u001b[0m\u001b[0m\n\u001b[0m",
      "\u001b[1;31mTypeError\u001b[0m: can't multiply sequence by non-int of type 'list'"
     ]
    }
   ],
   "source": [
    "list * list"
   ]
  },
  {
   "cell_type": "code",
   "execution_count": 10,
   "metadata": {},
   "outputs": [
    {
     "data": {
      "text/plain": [
       "array([1, 4, 9])"
      ]
     },
     "execution_count": 10,
     "metadata": {},
     "output_type": "execute_result"
    }
   ],
   "source": [
    "#note this is an element-wise multiplication\n",
    "#we will come to matrix multiplication in a short while\n",
    "np_array * np_array"
   ]
  },
  {
   "cell_type": "code",
   "execution_count": 11,
   "metadata": {},
   "outputs": [
    {
     "data": {
      "text/plain": [
       "array([ 1.        ,  1.41421356,  1.73205081])"
      ]
     },
     "execution_count": 11,
     "metadata": {},
     "output_type": "execute_result"
    }
   ],
   "source": [
    "np.sqrt(np_array)"
   ]
  },
  {
   "cell_type": "code",
   "execution_count": 13,
   "metadata": {},
   "outputs": [
    {
     "data": {
      "text/plain": [
       "array([ 0.        ,  0.69314718,  1.09861229])"
      ]
     },
     "execution_count": 13,
     "metadata": {},
     "output_type": "execute_result"
    }
   ],
   "source": [
    "np.log(np_array)"
   ]
  },
  {
   "cell_type": "code",
   "execution_count": 15,
   "metadata": {},
   "outputs": [
    {
     "data": {
      "text/plain": [
       "array([ 4,  8, 12])"
      ]
     },
     "execution_count": 15,
     "metadata": {},
     "output_type": "execute_result"
    }
   ],
   "source": [
    "4*np_array"
   ]
  },
  {
   "cell_type": "markdown",
   "metadata": {},
   "source": [
    "\n",
    "\n",
    "### A Practical use case where numpy arrays are a much better option\n",
    "\n",
    "\n",
    "Numpy arrays are **highly optimized for speed**. For the purpose of demonstration, we will use a python list and a numpy array respectively for vector multiplication and compare their speed. These type of operations are very common in machine learning(e.g. Logistic Regression,Neural Networks,Deep Learning etc.)   "
   ]
  },
  {
   "cell_type": "code",
   "execution_count": 21,
   "metadata": {},
   "outputs": [
    {
     "name": "stdout",
     "output_type": "stream",
     "text": [
      "Both of the methods output :  -526.0482278063494\n",
      "But list method took  2426.1364936828613 milliseconds while numpy array method took  10.003805160522461\n"
     ]
    }
   ],
   "source": [
    "import time\n",
    "import numpy as np\n",
    "\n",
    "n_features = 10000000\n",
    "np_x = np.random.uniform(0,1,(n_features,1))\n",
    "np_W = np.random.randn(1,n_features)\n",
    "b = 0\n",
    "#\n",
    "#x = list(np_x[:,0])\n",
    "#W = list(np_W[0,:])\n",
    "\n",
    "#numpy array to list conversion\n",
    "x = np_x[:,0].tolist()\n",
    "W = np_W[0,:].tolist()\n",
    "\n",
    "#python list\n",
    "\n",
    "start = time.time()\n",
    "z = 0\n",
    "\n",
    "for i in range(n_features) :\n",
    "    z = z + x[i]*W[i]\n",
    "    \n",
    "z = z + b\n",
    "\n",
    "list_result = z \n",
    "\n",
    "end = time.time()\n",
    "t1 = (end - start)*1000\n",
    "\n",
    "start = time.time()\n",
    "#note this is a matrix multiplication\n",
    "z = np.dot(np_W,np_x) + b\n",
    "end = time.time()\n",
    "t2 = (end - start)*1000\n",
    "\n",
    "numpy_result = z[0,0]\n",
    "\n",
    "if int(list_result) == int(numpy_result) : \n",
    "    print('Both of the methods output : ',list_result)\n",
    "\n",
    "print('But list method took ',t1,'milliseconds while numpy array method took ',t2)"
   ]
  },
  {
   "cell_type": "markdown",
   "metadata": {},
   "source": [
    "Here we have tried to simulate the *Wx + b* formula which is used in logistic regression,neural network etc. Using numpy arrays has just reduced computation time by almost 250 times which is significant for experimentation purposes. "
   ]
  },
  {
   "cell_type": "markdown",
   "metadata": {},
   "source": [
    "### Adding/Removing Elements from numpy array"
   ]
  },
  {
   "cell_type": "code",
   "execution_count": 42,
   "metadata": {},
   "outputs": [
    {
     "name": "stdout",
     "output_type": "stream",
     "text": [
      "[[ 0.97885806 -0.63627034 -1.86576788]\n",
      " [-1.71888712  0.63494951 -0.94567484]]\n"
     ]
    }
   ],
   "source": [
    "array = np.random.randn(2,3)\n",
    "values = np.random.randn(1,3) \n",
    "print(array)\n"
   ]
  },
  {
   "cell_type": "code",
   "execution_count": 43,
   "metadata": {},
   "outputs": [
    {
     "name": "stdout",
     "output_type": "stream",
     "text": [
      "[[-0.24827296 -1.63613672  1.71570443]]\n"
     ]
    }
   ],
   "source": [
    "print(values)"
   ]
  },
  {
   "cell_type": "code",
   "execution_count": 44,
   "metadata": {},
   "outputs": [
    {
     "data": {
      "text/plain": [
       "array([[ 0.97885806, -0.63627034, -1.86576788],\n",
       "       [-1.71888712,  0.63494951, -0.94567484],\n",
       "       [-0.24827296, -1.63613672,  1.71570443]])"
      ]
     },
     "execution_count": 44,
     "metadata": {},
     "output_type": "execute_result"
    }
   ],
   "source": [
    "# Appends values to end of arr\n",
    "\n",
    "np.append(array,values,axis=0) "
   ]
  },
  {
   "cell_type": "code",
   "execution_count": 45,
   "metadata": {},
   "outputs": [
    {
     "data": {
      "text/plain": [
       "array([[-0.24827296, -1.63613672,  1.71570443],\n",
       "       [ 0.97885806, -0.63627034, -1.86576788],\n",
       "       [-1.71888712,  0.63494951, -0.94567484]])"
      ]
     },
     "execution_count": 45,
     "metadata": {},
     "output_type": "execute_result"
    }
   ],
   "source": [
    "# Inserts values into array at index 0\n",
    "# please note that the append statement above did not change 'array'\n",
    "# we need to assign the result into 'array'  \n",
    "np.insert(array,0,values,axis=0)"
   ]
  },
  {
   "cell_type": "code",
   "execution_count": 46,
   "metadata": {},
   "outputs": [
    {
     "data": {
      "text/plain": [
       "array([[ 0.97885806, -0.63627034, -1.86576788]])"
      ]
     },
     "execution_count": 46,
     "metadata": {},
     "output_type": "execute_result"
    }
   ],
   "source": [
    "# Deletes row at index 1 of array  \n",
    "np.delete(array,1,axis=0) "
   ]
  },
  {
   "cell_type": "code",
   "execution_count": 47,
   "metadata": {},
   "outputs": [
    {
     "data": {
      "text/plain": [
       "array([[ 0.97885806, -0.63627034, -1.86576788],\n",
       "       [-1.71888712,  0.63494951, -0.94567484]])"
      ]
     },
     "execution_count": 47,
     "metadata": {},
     "output_type": "execute_result"
    }
   ],
   "source": [
    "array"
   ]
  },
  {
   "cell_type": "code",
   "execution_count": 48,
   "metadata": {},
   "outputs": [
    {
     "data": {
      "text/plain": [
       "array([[-0.63627034, -1.86576788],\n",
       "       [ 0.63494951, -0.94567484]])"
      ]
     },
     "execution_count": 48,
     "metadata": {},
     "output_type": "execute_result"
    }
   ],
   "source": [
    "#Deletes column on index 0 of array\n",
    "np.delete(array,0,axis=1)"
   ]
  },
  {
   "cell_type": "code",
   "execution_count": 49,
   "metadata": {},
   "outputs": [
    {
     "data": {
      "text/plain": [
       "array([[ 0.97885806, -0.63627034, -1.86576788],\n",
       "       [-1.71888712,  0.63494951, -0.94567484]])"
      ]
     },
     "execution_count": 49,
     "metadata": {},
     "output_type": "execute_result"
    }
   ],
   "source": [
    "array"
   ]
  },
  {
   "cell_type": "code",
   "execution_count": 50,
   "metadata": {},
   "outputs": [
    {
     "data": {
      "text/plain": [
       "array([[ 0.97885806, -0.63627034, -1.86576788],\n",
       "       [-1.71888712,  0.63494951, -0.94567484]])"
      ]
     },
     "execution_count": 50,
     "metadata": {},
     "output_type": "execute_result"
    }
   ],
   "source": [
    "array_copy = array\n",
    "array_copy"
   ]
  },
  {
   "cell_type": "code",
   "execution_count": 51,
   "metadata": {
    "collapsed": true
   },
   "outputs": [],
   "source": [
    "array_copy[0,0] = 9.99"
   ]
  },
  {
   "cell_type": "code",
   "execution_count": 52,
   "metadata": {},
   "outputs": [
    {
     "data": {
      "text/plain": [
       "array([[ 9.99      , -0.63627034, -1.86576788],\n",
       "       [-1.71888712,  0.63494951, -0.94567484]])"
      ]
     },
     "execution_count": 52,
     "metadata": {},
     "output_type": "execute_result"
    }
   ],
   "source": [
    "array_copy"
   ]
  },
  {
   "cell_type": "code",
   "execution_count": 53,
   "metadata": {},
   "outputs": [
    {
     "data": {
      "text/plain": [
       "array([[ 9.99      , -0.63627034, -1.86576788],\n",
       "       [-1.71888712,  0.63494951, -0.94567484]])"
      ]
     },
     "execution_count": 53,
     "metadata": {},
     "output_type": "execute_result"
    }
   ],
   "source": [
    "# note here that numpy arrays are pass by reference(just like java)\n",
    "# modifying array_copy has also modified array\n",
    "array"
   ]
  },
  {
   "cell_type": "code",
   "execution_count": 54,
   "metadata": {
    "collapsed": true
   },
   "outputs": [],
   "source": [
    "array_copy = np.copy(array)"
   ]
  },
  {
   "cell_type": "code",
   "execution_count": 55,
   "metadata": {
    "collapsed": true
   },
   "outputs": [],
   "source": [
    "array_copy[0,0] =  4"
   ]
  },
  {
   "cell_type": "code",
   "execution_count": 56,
   "metadata": {},
   "outputs": [
    {
     "data": {
      "text/plain": [
       "array([[ 4.        , -0.63627034, -1.86576788],\n",
       "       [-1.71888712,  0.63494951, -0.94567484]])"
      ]
     },
     "execution_count": 56,
     "metadata": {},
     "output_type": "execute_result"
    }
   ],
   "source": [
    "array_copy"
   ]
  },
  {
   "cell_type": "code",
   "execution_count": 57,
   "metadata": {},
   "outputs": [
    {
     "data": {
      "text/plain": [
       "array([[ 9.99      , -0.63627034, -1.86576788],\n",
       "       [-1.71888712,  0.63494951, -0.94567484]])"
      ]
     },
     "execution_count": 57,
     "metadata": {},
     "output_type": "execute_result"
    }
   ],
   "source": [
    "# notice that modifying array_copy no longer modifies array\n",
    "array"
   ]
  },
  {
   "cell_type": "markdown",
   "metadata": {},
   "source": [
    "One important thing to note here is the axis argument.Axis **0 refers to rows while axis 1 refers to columns**.\n",
    "If we are appending or inserting along axis 0, both arrays must have equal number of columns(all other axes except axis 0 \n",
    "must be equal)."
   ]
  },
  {
   "cell_type": "markdown",
   "metadata": {},
   "source": [
    "### INDEXING/SLICING/SUBSETTING"
   ]
  },
  {
   "cell_type": "code",
   "execution_count": 3,
   "metadata": {
    "collapsed": true
   },
   "outputs": [],
   "source": [
    "\n",
    "array_1 = np.random.uniform(low=2,high=6,size=(3,))\n",
    "array_2 = np.random.uniform(low=2,high=6,size=(3,4))\n",
    "array_3 = np.random.uniform(low=2,high=6,size=(3,4))\n"
   ]
  },
  {
   "cell_type": "code",
   "execution_count": 4,
   "metadata": {},
   "outputs": [
    {
     "name": "stdout",
     "output_type": "stream",
     "text": [
      "[ 3.09843285  2.30931032  3.6728476 ]\n"
     ]
    }
   ],
   "source": [
    "print(array_1)"
   ]
  },
  {
   "cell_type": "code",
   "execution_count": 5,
   "metadata": {},
   "outputs": [
    {
     "name": "stdout",
     "output_type": "stream",
     "text": [
      "[[ 4.64328967  2.76634952  2.60850011  3.69346793]\n",
      " [ 5.18280557  4.20222226  2.51751563  4.6821338 ]\n",
      " [ 3.83320964  2.85274692  3.09265041  4.61107613]]\n"
     ]
    }
   ],
   "source": [
    "print(array_2)"
   ]
  },
  {
   "cell_type": "code",
   "execution_count": 6,
   "metadata": {},
   "outputs": [
    {
     "name": "stdout",
     "output_type": "stream",
     "text": [
      "[[ 4.87154386  4.59143738  2.05173751  2.86300843]\n",
      " [ 4.30821845  2.27923643  5.05196281  3.62478338]\n",
      " [ 3.75443465  3.60330234  5.70475247  2.51296106]]\n"
     ]
    }
   ],
   "source": [
    "print(array_3)"
   ]
  },
  {
   "cell_type": "code",
   "execution_count": 7,
   "metadata": {},
   "outputs": [
    {
     "data": {
      "text/plain": [
       "array([ 3.09843285,  2.30931032])"
      ]
     },
     "execution_count": 7,
     "metadata": {},
     "output_type": "execute_result"
    }
   ],
   "source": [
    "# Returns the elements at indices 0,1\n",
    "# note that the last index in the range(2) is not included(open interval)\n",
    "# [)\n",
    "array_1[0:2] "
   ]
  },
  {
   "cell_type": "code",
   "execution_count": 32,
   "metadata": {},
   "outputs": [
    {
     "name": "stdout",
     "output_type": "stream",
     "text": [
      "array_2\n",
      " [[ 4.64328967  2.76634952  2.60850011  3.69346793]\n",
      " [ 5.18280557  4.20222226  2.51751563  4.6821338 ]\n",
      " [ 3.83320964  2.85274692  3.09265041  4.61107613]]\n",
      "\n",
      "rows 0 and 1 of array_2\n",
      "\n",
      " [[ 4.64328967  2.76634952  2.60850011  3.69346793]\n",
      " [ 5.18280557  4.20222226  2.51751563  4.6821338 ]]\n"
     ]
    }
   ],
   "source": [
    "# On a 2D array: returns rows 0,1\n",
    "print('array_2\\n',array_2)\n",
    "print('\\nrows 0 and 1 of array_2\\n\\n',array_2[0:2]) "
   ]
  },
  {
   "cell_type": "code",
   "execution_count": 28,
   "metadata": {},
   "outputs": [
    {
     "name": "stdout",
     "output_type": "stream",
     "text": [
      "array_2\n",
      " [[ 4.64328967  2.76634952  2.60850011  3.69346793]\n",
      " [ 5.18280557  4.20222226  2.51751563  4.6821338 ]\n",
      " [ 3.83320964  2.85274692  3.09265041  4.61107613]]\n",
      "array_2 column one\n",
      " [ 2.76634952  4.20222226  2.85274692]\n"
     ]
    }
   ],
   "source": [
    "# Returns the elements at index 1 on all rows(full column 1)\n",
    "print('array_2\\n',array_2)\n",
    "print('array_2 column one\\n',array_2[:,1]) "
   ]
  },
  {
   "cell_type": "code",
   "execution_count": 27,
   "metadata": {},
   "outputs": [
    {
     "name": "stdout",
     "output_type": "stream",
     "text": [
      "array_1\n",
      " [ 3.09843285  2.30931032  3.6728476 ]\n",
      "bool_array\n",
      " [ True  True False]\n"
     ]
    }
   ],
   "source": [
    "# Returns an array of the same shape with boolean values \n",
    "# indicating whether the corresonding elements in the array satisfy the condition or not\n",
    "print('array_1\\n',array_1)\n",
    "print('bool_array\\n',array_1<3.5) "
   ]
  },
  {
   "cell_type": "code",
   "execution_count": 24,
   "metadata": {},
   "outputs": [
    {
     "name": "stdout",
     "output_type": "stream",
     "text": [
      "array_2\n",
      " [[ 4.64328967  2.76634952  2.60850011  3.69346793]\n",
      " [ 5.18280557  4.20222226  2.51751563  4.6821338 ]\n",
      " [ 3.83320964  2.85274692  3.09265041  4.61107613]] \n",
      "\n",
      "\n",
      "array_3\n",
      " [[ 4.87154386  4.59143738  2.05173751  2.86300843]\n",
      " [ 4.30821845  2.27923643  5.05196281  3.62478338]\n",
      " [ 3.75443465  3.60330234  5.70475247  2.51296106]] \n",
      "\n",
      "\n",
      "array_2 condition\n",
      " [[False  True  True False]\n",
      " [False False  True False]\n",
      " [False  True  True False]] \n",
      "\n",
      "\n",
      "array_3 condition\n",
      " [[ True  True False False]\n",
      " [False False  True False]\n",
      " [False False  True False]] \n",
      "\n",
      "\n"
     ]
    },
    {
     "data": {
      "text/plain": [
       "array([[False,  True, False, False],\n",
       "       [False, False,  True, False],\n",
       "       [False, False,  True, False]], dtype=bool)"
      ]
     },
     "execution_count": 24,
     "metadata": {},
     "output_type": "execute_result"
    }
   ],
   "source": [
    "# performs element-wise 'and' between 2 boolean arrays of the same size\n",
    "print('array_2\\n',array_2,'\\n\\n')\n",
    "print('array_3\\n',array_3,'\\n\\n')\n",
    "print('array_2 condition\\n',array_2<3.5,'\\n\\n')\n",
    "print('array_3 condition\\n',array_3>4.5,'\\n\\n')\n",
    "(array_2<3.5) & (array_3>4.5)"
   ]
  },
  {
   "cell_type": "code",
   "execution_count": 25,
   "metadata": {},
   "outputs": [
    {
     "name": "stdout",
     "output_type": "stream",
     "text": [
      "array_1\n",
      " [ 3.09843285  2.30931032  3.6728476 ]\n",
      "bool_array\n",
      " [ True  True False]\n",
      "inverted bool array\n",
      " [False False  True]\n"
     ]
    }
   ],
   "source": [
    "# Inverts a boolean array\n",
    "print('array_1\\n',array_1)\n",
    "print('bool_array\\n',(array_1<3.5))\n",
    "print('inverted bool array\\n',~(array_1<3.5))"
   ]
  },
  {
   "cell_type": "code",
   "execution_count": 12,
   "metadata": {},
   "outputs": [
    {
     "data": {
      "text/plain": [
       "array([[ True,  True, False, False],\n",
       "       [False, False,  True, False],\n",
       "       [False, False, False,  True]], dtype=bool)"
      ]
     },
     "execution_count": 12,
     "metadata": {},
     "output_type": "execute_result"
    }
   ],
   "source": [
    "# Inverts boolean arrays and performs element-wise 'and' afterwards\n",
    "~(array_2<3.5) & ~(array_3>4.5) "
   ]
  },
  {
   "cell_type": "code",
   "execution_count": 29,
   "metadata": {},
   "outputs": [
    {
     "name": "stdout",
     "output_type": "stream",
     "text": [
      "array_2\n",
      " [[ 4.64328967  2.76634952  2.60850011  3.69346793]\n",
      " [ 5.18280557  4.20222226  2.51751563  4.6821338 ]\n",
      " [ 3.83320964  2.85274692  3.09265041  4.61107613]]\n",
      "bool_array\n",
      " [[ True False False  True]\n",
      " [ True  True False  True]\n",
      " [ True False False  True]]\n",
      "conditional selection\n",
      " [ 4.64328967  3.69346793  5.18280557  4.20222226  4.6821338   3.83320964\n",
      "  4.61107613]\n"
     ]
    }
   ],
   "source": [
    "# boolean arrays can be used as array index\n",
    "# Returns array elements greater than 3.5\n",
    "print('array_2\\n',array_2)\n",
    "print('bool_array\\n',array_2>3.5)\n",
    "print('conditional selection\\n',array_2[array_2>3.5]) "
   ]
  },
  {
   "cell_type": "code",
   "execution_count": 36,
   "metadata": {},
   "outputs": [
    {
     "name": "stdout",
     "output_type": "stream",
     "text": [
      "array_2\n",
      " [[ 4.64328967  2.76634952  2.60850011  3.69346793]\n",
      " [ 5.18280557  4.20222226  2.51751563  4.6821338 ]\n",
      " [ 3.83320964  2.85274692  3.09265041  4.61107613]]\n",
      "row_indiecs\n",
      " [0 0 1 1 1 2 2] \n",
      "column_indices\n",
      " [0 3 0 1 3 0 3]\n"
     ]
    }
   ],
   "source": [
    "# Return the array indices where some condition is satisfied\n",
    "print('array_2\\n',array_2)\n",
    "rows,columns = np.where(array_2>3.5)\n",
    "print('row_indiecs\\n',rows,'\\ncolumn_indices\\n',columns)"
   ]
  },
  {
   "cell_type": "code",
   "execution_count": 39,
   "metadata": {},
   "outputs": [
    {
     "name": "stdout",
     "output_type": "stream",
     "text": [
      "element\n",
      " [[0 2]\n",
      " [4 6]]\n",
      "test_elements\n",
      " [1, 2, 4, 8, 9, 2, 3]\n"
     ]
    }
   ],
   "source": [
    "# Check which elements of one array are contained in another array\n",
    "element = 2*np.arange(4).reshape((2, 2))\n",
    "test_elements = [1, 2, 4, 8,9,2,3]\n",
    "print('element\\n',element)\n",
    "print('test_elements\\n',test_elements)\n"
   ]
  },
  {
   "cell_type": "code",
   "execution_count": 42,
   "metadata": {},
   "outputs": [
    {
     "name": "stdout",
     "output_type": "stream",
     "text": [
      "[False  True  True False False  True False]\n"
     ]
    }
   ],
   "source": [
    "mask = np.isin(test_elements, element)\n",
    "print(mask)\n"
   ]
  },
  {
   "cell_type": "markdown",
   "metadata": {},
   "source": [
    "### SIMPLE STATISTICS"
   ]
  },
  {
   "cell_type": "code",
   "execution_count": 16,
   "metadata": {},
   "outputs": [
    {
     "data": {
      "text/plain": [
       "array([ 4.68403964,  4.09487421,  3.88499147,  3.37187408])"
      ]
     },
     "execution_count": 16,
     "metadata": {},
     "output_type": "execute_result"
    }
   ],
   "source": [
    "#Returns mean along specific axis\n",
    "np.mean(array_2,axis=0)"
   ]
  },
  {
   "cell_type": "code",
   "execution_count": 17,
   "metadata": {},
   "outputs": [
    {
     "data": {
      "text/plain": [
       "array([ 14.05211893,  12.28462262,  11.65497441,  10.11562223])"
      ]
     },
     "execution_count": 17,
     "metadata": {},
     "output_type": "execute_result"
    }
   ],
   "source": [
    "#Returns sum of array along specific axis \n",
    "np.sum(array_2,axis=0)"
   ]
  },
  {
   "cell_type": "code",
   "execution_count": 18,
   "metadata": {},
   "outputs": [
    {
     "data": {
      "text/plain": [
       "array([ 3.34076318,  2.04650584,  2.53752509])"
      ]
     },
     "execution_count": 18,
     "metadata": {},
     "output_type": "execute_result"
    }
   ],
   "source": [
    "np.min(array_2,axis=1) "
   ]
  },
  {
   "cell_type": "code",
   "execution_count": 19,
   "metadata": {},
   "outputs": [
    {
     "data": {
      "text/plain": [
       "array([3, 1, 2], dtype=int64)"
      ]
     },
     "execution_count": 19,
     "metadata": {},
     "output_type": "execute_result"
    }
   ],
   "source": [
    "#Returns index of minimum element of array along specific axis\n",
    "np.argmin(array_2,axis=1)"
   ]
  },
  {
   "cell_type": "code",
   "execution_count": 20,
   "metadata": {},
   "outputs": [
    {
     "data": {
      "text/plain": [
       "array([1, 2, 0], dtype=int64)"
      ]
     },
     "execution_count": 20,
     "metadata": {},
     "output_type": "execute_result"
    }
   ],
   "source": [
    "#Returns index of maximum element of array along specific axis \n",
    "np.argmax(array_2,axis=1)"
   ]
  },
  {
   "cell_type": "code",
   "execution_count": 21,
   "metadata": {},
   "outputs": [
    {
     "data": {
      "text/plain": [
       "array([ 0.98712518,  1.73315015,  1.38551553])"
      ]
     },
     "execution_count": 21,
     "metadata": {},
     "output_type": "execute_result"
    }
   ],
   "source": [
    "#Returns variance along specific axis\n",
    "np.var(array_2,axis=1)"
   ]
  },
  {
   "cell_type": "code",
   "execution_count": 22,
   "metadata": {},
   "outputs": [
    {
     "data": {
      "text/plain": [
       "array([ 0.99354174,  1.31649161,  1.17707924])"
      ]
     },
     "execution_count": 22,
     "metadata": {},
     "output_type": "execute_result"
    }
   ],
   "source": [
    "#Returns standard deviation along specific axis\n",
    "np.std(array_2,axis=1)"
   ]
  },
  {
   "cell_type": "markdown",
   "metadata": {},
   "source": [
    "For convenience, the axis argument can be thaught as **REDUCTION AXIS**. The result will be reduced along the specified axis."
   ]
  }
 ],
 "metadata": {
  "kernelspec": {
   "display_name": "Python [default]",
   "language": "python",
   "name": "python3"
  },
  "language_info": {
   "codemirror_mode": {
    "name": "ipython",
    "version": 3
   },
   "file_extension": ".py",
   "mimetype": "text/x-python",
   "name": "python",
   "nbconvert_exporter": "python",
   "pygments_lexer": "ipython3",
   "version": "3.5.3"
  }
 },
 "nbformat": 4,
 "nbformat_minor": 2
}
